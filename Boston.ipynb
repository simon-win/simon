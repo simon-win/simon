{
  "nbformat": 4,
  "nbformat_minor": 0,
  "metadata": {
    "colab": {
      "name": "Boston.ipynb",
      "provenance": [],
      "collapsed_sections": [],
      "authorship_tag": "ABX9TyNbO9XL85qMd3/8CHogUZpp",
      "include_colab_link": true
    },
    "kernelspec": {
      "name": "python3",
      "display_name": "Python 3"
    }
  },
  "cells": [
    {
      "cell_type": "markdown",
      "metadata": {
        "id": "view-in-github",
        "colab_type": "text"
      },
      "source": [
        "<a href=\"https://colab.research.google.com/github/simon-win/simon/blob/master/Boston.ipynb\" target=\"_parent\"><img src=\"https://colab.research.google.com/assets/colab-badge.svg\" alt=\"Open In Colab\"/></a>"
      ]
    },
    {
      "cell_type": "code",
      "metadata": {
        "id": "fYdWHihMS6au",
        "colab_type": "code",
        "colab": {}
      },
      "source": [
        "# 라이브러리\n",
        "import tensorflow as tf\n",
        "import pandas as pd"
      ],
      "execution_count": 2,
      "outputs": []
    },
    {
      "cell_type": "code",
      "metadata": {
        "id": "cV9Wx6vMXYMh",
        "colab_type": "code",
        "colab": {
          "base_uri": "https://localhost:8080/",
          "height": 246
        },
        "outputId": "a63e9c6f-1072-4243-83d9-f3fd1f619b1a"
      },
      "source": [
        "# 데이터\n",
        "파일경로 = 'https://raw.githubusercontent.com/blackdew/tensorflow1/master/csv/boston.csv'\n",
        "보스톤 = pd.read_csv(파일경로)\n",
        "print(보스톤.columns)\n",
        "보스톤.head()\n",
        "# 프린트 칼럼사용! 눈으로 확인\n",
        "# 프린트랑 헤드 줄 바꾸면 프린트만 나옴 - 왜?"
      ],
      "execution_count": 39,
      "outputs": [
        {
          "output_type": "stream",
          "text": [
            "Index(['crim', 'zn', 'indus', 'chas', 'nox', 'rm', 'age', 'dis', 'rad', 'tax',\n",
            "       'ptratio', 'b', 'lstat', 'medv'],\n",
            "      dtype='object')\n"
          ],
          "name": "stdout"
        },
        {
          "output_type": "execute_result",
          "data": {
            "text/html": [
              "<div>\n",
              "<style scoped>\n",
              "    .dataframe tbody tr th:only-of-type {\n",
              "        vertical-align: middle;\n",
              "    }\n",
              "\n",
              "    .dataframe tbody tr th {\n",
              "        vertical-align: top;\n",
              "    }\n",
              "\n",
              "    .dataframe thead th {\n",
              "        text-align: right;\n",
              "    }\n",
              "</style>\n",
              "<table border=\"1\" class=\"dataframe\">\n",
              "  <thead>\n",
              "    <tr style=\"text-align: right;\">\n",
              "      <th></th>\n",
              "      <th>crim</th>\n",
              "      <th>zn</th>\n",
              "      <th>indus</th>\n",
              "      <th>chas</th>\n",
              "      <th>nox</th>\n",
              "      <th>rm</th>\n",
              "      <th>age</th>\n",
              "      <th>dis</th>\n",
              "      <th>rad</th>\n",
              "      <th>tax</th>\n",
              "      <th>ptratio</th>\n",
              "      <th>b</th>\n",
              "      <th>lstat</th>\n",
              "      <th>medv</th>\n",
              "    </tr>\n",
              "  </thead>\n",
              "  <tbody>\n",
              "    <tr>\n",
              "      <th>0</th>\n",
              "      <td>0.00632</td>\n",
              "      <td>18.0</td>\n",
              "      <td>2.31</td>\n",
              "      <td>0</td>\n",
              "      <td>0.538</td>\n",
              "      <td>6.575</td>\n",
              "      <td>65.2</td>\n",
              "      <td>4.0900</td>\n",
              "      <td>1</td>\n",
              "      <td>296</td>\n",
              "      <td>15.3</td>\n",
              "      <td>396.90</td>\n",
              "      <td>4.98</td>\n",
              "      <td>24.0</td>\n",
              "    </tr>\n",
              "    <tr>\n",
              "      <th>1</th>\n",
              "      <td>0.02731</td>\n",
              "      <td>0.0</td>\n",
              "      <td>7.07</td>\n",
              "      <td>0</td>\n",
              "      <td>0.469</td>\n",
              "      <td>6.421</td>\n",
              "      <td>78.9</td>\n",
              "      <td>4.9671</td>\n",
              "      <td>2</td>\n",
              "      <td>242</td>\n",
              "      <td>17.8</td>\n",
              "      <td>396.90</td>\n",
              "      <td>9.14</td>\n",
              "      <td>21.6</td>\n",
              "    </tr>\n",
              "    <tr>\n",
              "      <th>2</th>\n",
              "      <td>0.02729</td>\n",
              "      <td>0.0</td>\n",
              "      <td>7.07</td>\n",
              "      <td>0</td>\n",
              "      <td>0.469</td>\n",
              "      <td>7.185</td>\n",
              "      <td>61.1</td>\n",
              "      <td>4.9671</td>\n",
              "      <td>2</td>\n",
              "      <td>242</td>\n",
              "      <td>17.8</td>\n",
              "      <td>392.83</td>\n",
              "      <td>4.03</td>\n",
              "      <td>34.7</td>\n",
              "    </tr>\n",
              "    <tr>\n",
              "      <th>3</th>\n",
              "      <td>0.03237</td>\n",
              "      <td>0.0</td>\n",
              "      <td>2.18</td>\n",
              "      <td>0</td>\n",
              "      <td>0.458</td>\n",
              "      <td>6.998</td>\n",
              "      <td>45.8</td>\n",
              "      <td>6.0622</td>\n",
              "      <td>3</td>\n",
              "      <td>222</td>\n",
              "      <td>18.7</td>\n",
              "      <td>394.63</td>\n",
              "      <td>2.94</td>\n",
              "      <td>33.4</td>\n",
              "    </tr>\n",
              "    <tr>\n",
              "      <th>4</th>\n",
              "      <td>0.06905</td>\n",
              "      <td>0.0</td>\n",
              "      <td>2.18</td>\n",
              "      <td>0</td>\n",
              "      <td>0.458</td>\n",
              "      <td>7.147</td>\n",
              "      <td>54.2</td>\n",
              "      <td>6.0622</td>\n",
              "      <td>3</td>\n",
              "      <td>222</td>\n",
              "      <td>18.7</td>\n",
              "      <td>396.90</td>\n",
              "      <td>5.33</td>\n",
              "      <td>36.2</td>\n",
              "    </tr>\n",
              "  </tbody>\n",
              "</table>\n",
              "</div>"
            ],
            "text/plain": [
              "      crim    zn  indus  chas    nox  ...  tax  ptratio       b  lstat  medv\n",
              "0  0.00632  18.0   2.31     0  0.538  ...  296     15.3  396.90   4.98  24.0\n",
              "1  0.02731   0.0   7.07     0  0.469  ...  242     17.8  396.90   9.14  21.6\n",
              "2  0.02729   0.0   7.07     0  0.469  ...  242     17.8  392.83   4.03  34.7\n",
              "3  0.03237   0.0   2.18     0  0.458  ...  222     18.7  394.63   2.94  33.4\n",
              "4  0.06905   0.0   2.18     0  0.458  ...  222     18.7  396.90   5.33  36.2\n",
              "\n",
              "[5 rows x 14 columns]"
            ]
          },
          "metadata": {
            "tags": []
          },
          "execution_count": 39
        }
      ]
    },
    {
      "cell_type": "code",
      "metadata": {
        "id": "6Tg74vSbXrGk",
        "colab_type": "code",
        "colab": {
          "base_uri": "https://localhost:8080/",
          "height": 34
        },
        "outputId": "9ae8c41e-58e9-4217-e47b-1ff5cd8a7026"
      },
      "source": [
        "# 독립변수, 종속변수 분리\n",
        "독립 = 보스톤[['crim',\t'zn',\t'indus',\t'chas',\t'nox',\t'rm',\t'age',\t'dis',\t'rad',\t'tax',\t'ptratio',\t'b',\t'lstat']]\n",
        "종속 = 보스톤[['medv']]\n",
        "print(독립.shape, 종속.shape)\n",
        "# 프린트 shape 를 통해 꼭 눈으로 확인\n",
        "# 독립변수 : crm 범죄율 chas 찰스강 rm 평균방수 age 노후주택비율 tax 재산세세율 ptratio 학생교사비율 lstat 저소득층비율 medv 중간값"
      ],
      "execution_count": 15,
      "outputs": [
        {
          "output_type": "stream",
          "text": [
            "(506, 13) (506, 1)\n"
          ],
          "name": "stdout"
        }
      ]
    },
    {
      "cell_type": "code",
      "metadata": {
        "id": "6dnMW8kAYOLB",
        "colab_type": "code",
        "colab": {}
      },
      "source": [
        "# 모델만들기\n",
        "x = tf.keras.layers.Input(shape=[13])\n",
        "y = tf.keras.layers.Dense(1)(x)\n",
        "model = tf.keras.models.Model(x,y)\n",
        "model.compile(loss='mse')\n",
        "# 궁금증 input은 shape이고 dense 는 () 안쓰는 이유?\n",
        "# shape의 의미는?\n",
        "# () 과 [] 의 차이\n",
        "# perceptron 퍼셉트론\n",
        "# weight 가중치\n",
        "# b = bias 편향 "
      ],
      "execution_count": 33,
      "outputs": []
    },
    {
      "cell_type": "code",
      "metadata": {
        "id": "LCv9cnXuavPp",
        "colab_type": "code",
        "colab": {
          "base_uri": "https://localhost:8080/",
          "height": 370
        },
        "outputId": "6278c3a8-ece5-4366-a5a6-3a9e32af3720"
      },
      "source": [
        "# 모델학습\n",
        "model.fit(독립,종속,epochs=10)\n",
        "model.fit(독립,종속,epochs=10000, verbose=0)"
      ],
      "execution_count": 49,
      "outputs": [
        {
          "output_type": "stream",
          "text": [
            "Epoch 1/10\n",
            "16/16 [==============================] - 0s 1ms/step - loss: 23.8981\n",
            "Epoch 2/10\n",
            "16/16 [==============================] - 0s 1ms/step - loss: 23.9917\n",
            "Epoch 3/10\n",
            "16/16 [==============================] - 0s 1ms/step - loss: 23.6068\n",
            "Epoch 4/10\n",
            "16/16 [==============================] - 0s 1ms/step - loss: 23.8179\n",
            "Epoch 5/10\n",
            "16/16 [==============================] - 0s 993us/step - loss: 24.1883\n",
            "Epoch 6/10\n",
            "16/16 [==============================] - 0s 1ms/step - loss: 24.0398\n",
            "Epoch 7/10\n",
            "16/16 [==============================] - 0s 1ms/step - loss: 23.7522\n",
            "Epoch 8/10\n",
            "16/16 [==============================] - 0s 1ms/step - loss: 24.0825\n",
            "Epoch 9/10\n",
            "16/16 [==============================] - 0s 1ms/step - loss: 23.9842\n",
            "Epoch 10/10\n",
            "16/16 [==============================] - 0s 1ms/step - loss: 24.0204\n"
          ],
          "name": "stdout"
        },
        {
          "output_type": "execute_result",
          "data": {
            "text/plain": [
              "<tensorflow.python.keras.callbacks.History at 0x7fed2a1e7240>"
            ]
          },
          "metadata": {
            "tags": []
          },
          "execution_count": 49
        }
      ]
    },
    {
      "cell_type": "code",
      "metadata": {
        "id": "eIhJquIZbGy2",
        "colab_type": "code",
        "colab": {
          "base_uri": "https://localhost:8080/",
          "height": 101
        },
        "outputId": "50bbe599-3774-43c4-8743-d084c83fcc4b"
      },
      "source": [
        "# 모델이용 예측값\n",
        "model.predict(독립)\n",
        "model.predict(독립[5:10])"
      ],
      "execution_count": 50,
      "outputs": [
        {
          "output_type": "execute_result",
          "data": {
            "text/plain": [
              "array([[25.178165],\n",
              "       [21.88448 ],\n",
              "       [18.833982],\n",
              "       [10.726571],\n",
              "       [18.179789]], dtype=float32)"
            ]
          },
          "metadata": {
            "tags": []
          },
          "execution_count": 50
        }
      ]
    },
    {
      "cell_type": "code",
      "metadata": {
        "id": "wE7ODg_rc_6Y",
        "colab_type": "code",
        "colab": {
          "base_uri": "https://localhost:8080/",
          "height": 195
        },
        "outputId": "52eb22ba-2c6a-40a5-ba30-f242dbca5406"
      },
      "source": [
        "# python slicing\n",
        "# 회귀에서 100% 맞추는건 불가능\n",
        "종속[5:10]"
      ],
      "execution_count": 52,
      "outputs": [
        {
          "output_type": "execute_result",
          "data": {
            "text/html": [
              "<div>\n",
              "<style scoped>\n",
              "    .dataframe tbody tr th:only-of-type {\n",
              "        vertical-align: middle;\n",
              "    }\n",
              "\n",
              "    .dataframe tbody tr th {\n",
              "        vertical-align: top;\n",
              "    }\n",
              "\n",
              "    .dataframe thead th {\n",
              "        text-align: right;\n",
              "    }\n",
              "</style>\n",
              "<table border=\"1\" class=\"dataframe\">\n",
              "  <thead>\n",
              "    <tr style=\"text-align: right;\">\n",
              "      <th></th>\n",
              "      <th>medv</th>\n",
              "    </tr>\n",
              "  </thead>\n",
              "  <tbody>\n",
              "    <tr>\n",
              "      <th>5</th>\n",
              "      <td>28.7</td>\n",
              "    </tr>\n",
              "    <tr>\n",
              "      <th>6</th>\n",
              "      <td>22.9</td>\n",
              "    </tr>\n",
              "    <tr>\n",
              "      <th>7</th>\n",
              "      <td>27.1</td>\n",
              "    </tr>\n",
              "    <tr>\n",
              "      <th>8</th>\n",
              "      <td>16.5</td>\n",
              "    </tr>\n",
              "    <tr>\n",
              "      <th>9</th>\n",
              "      <td>18.9</td>\n",
              "    </tr>\n",
              "  </tbody>\n",
              "</table>\n",
              "</div>"
            ],
            "text/plain": [
              "   medv\n",
              "5  28.7\n",
              "6  22.9\n",
              "7  27.1\n",
              "8  16.5\n",
              "9  18.9"
            ]
          },
          "metadata": {
            "tags": []
          },
          "execution_count": 52
        }
      ]
    },
    {
      "cell_type": "code",
      "metadata": {
        "id": "SduOsSrXoms3",
        "colab_type": "code",
        "colab": {
          "base_uri": "https://localhost:8080/",
          "height": 235
        },
        "outputId": "66cbb7eb-1f1b-4561-8796-b730e02a4f54"
      },
      "source": [
        "# 모델수식확인\n",
        "model.get_weights()\n"
      ],
      "execution_count": 54,
      "outputs": [
        {
          "output_type": "execute_result",
          "data": {
            "text/plain": [
              "[array([[-0.09655642],\n",
              "        [ 0.04748737],\n",
              "        [-0.01191489],\n",
              "        [ 2.629996  ],\n",
              "        [-5.7027807 ],\n",
              "        [ 5.005062  ],\n",
              "        [-0.00832036],\n",
              "        [-1.1482427 ],\n",
              "        [ 0.21942845],\n",
              "        [-0.01150059],\n",
              "        [-0.60433245],\n",
              "        [ 0.01233195],\n",
              "        [-0.4715239 ]], dtype=float32), array([13.877861], dtype=float32)]"
            ]
          },
          "metadata": {
            "tags": []
          },
          "execution_count": 54
        }
      ]
    },
    {
      "cell_type": "markdown",
      "metadata": {
        "id": "MWoCpq0do_Mw",
        "colab_type": "text"
      },
      "source": [
        "집값 = -0.09655642 * x1 + 0.0474873 * x2 + -0.01191489 * x3 + 2.629996 * x4 + -5.7027807 * x5 + 5.005062 * x6 + -0.00832036 * x7 + -1.1482427 * x8 + 0.21942845 * x9 + -0.01150059 * x10 + -0.60433245 * x11 + 0.01233195 * x12 + -0.4715239 * x13 + 13.877861"
      ]
    },
    {
      "cell_type": "code",
      "metadata": {
        "id": "QKxoIbK2o-5W",
        "colab_type": "code",
        "colab": {}
      },
      "source": [
        ""
      ],
      "execution_count": null,
      "outputs": []
    }
  ]
}